{
 "cells": [
  {
   "cell_type": "markdown",
   "id": "418f5e13",
   "metadata": {},
   "source": [
    "# Data Science"
   ]
  },
  {
   "cell_type": "markdown",
   "id": "70e72554",
   "metadata": {},
   "source": [
    "# Exercise 1: Create a Jupyter Notebook"
   ]
  },
  {
   "cell_type": "markdown",
   "id": "3545773b",
   "metadata": {},
   "source": [
    "# Exercise 2: Create markdown cell with title of the notebook\n",
    "\n",
    "# In this notebook, Data Science Tools and Ecosystem are summarized.\n",
    "\n",
    "## Objectives:\n",
    "* Item 1\n",
    "    1. subitem 1\n",
    "    1. subitem 2\n",
    "        * level three\n",
    "            * level four\n",
    "\n",
    "* Item 2\n",
    "    1. level 2\n",
    "    1. anohter level two\n",
    "    \n",
    "* Item 3"
   ]
  },
  {
   "cell_type": "markdown",
   "id": "8cfc69b6",
   "metadata": {},
   "source": [
    "## Some of the popular languages that Data Scientists use are:\n",
    "1. Python\n",
    "2. R\n",
    "3. Sql \n"
   ]
  },
  {
   "cell_type": "markdown",
   "id": "3ea01276",
   "metadata": {},
   "source": [
    "## Some of the popular libraries that Data Scientists use are:\n",
    "1. Pandas\n",
    "2. Numpy\n",
    "3. Scipy "
   ]
  },
  {
   "cell_type": "markdown",
   "id": "0527ece9",
   "metadata": {},
   "source": [
    "\n",
    "|  Date (YYYY-MM-DD) |  Version | Changed By  |  Change Description |\n",
    "|---|---|---|---|\n",
    "| 2021-04-06 | 2.1 | Malika | Updated lab link |\n",
    "| 2020-09-25  | 2.0  | Lakshmi |  Fixed Typo errors |\n",
    "| 2020-08-27  | 2.0  | Lavanya  |  Moved lab to course repo in GitLab |\n"
   ]
  },
  {
   "cell_type": "markdown",
   "id": "105ad280",
   "metadata": {},
   "source": [
    "| Data Science Tools |\n",
    "|--------------------|\n",
    "| Jupyter |\n",
    "| Rstudio  |\n",
    "| Apache Zeppline  |\n",
    "\n"
   ]
  },
  {
   "cell_type": "markdown",
   "id": "9ecd0b31",
   "metadata": {},
   "source": [
    "\n",
    "| Currency | Rate          |\n",
    "| -------- | ------------- |\n",
    "| CAD      | 1.2770677002  |\n",
    "| HKD      | 7.7512162942  |\n",
    "| INR      | 73.7779335367 |\n",
    "| EUR      | 0.8246062505  |\n",
    "| -------- | ------------- |\n"
   ]
  },
  {
   "cell_type": "markdown",
   "id": "12a3816f",
   "metadata": {},
   "source": []
  },
  {
   "cell_type": "markdown",
   "id": "f9222416",
   "metadata": {},
   "source": []
  },
  {
   "cell_type": "markdown",
   "id": "2e532a1d",
   "metadata": {},
   "source": [
    "### Below are a few examples of evaluating arithmetic expressions in Python:\n"
   ]
  },
  {
   "cell_type": "code",
   "execution_count": 3,
   "id": "d335f409",
   "metadata": {},
   "outputs": [
    {
     "data": {
      "text/plain": [
       "17"
      ]
     },
     "execution_count": 3,
     "metadata": {},
     "output_type": "execute_result"
    }
   ],
   "source": [
    "# This a simple arithmetic expression to mutiply then add integers\n",
    "\n",
    "a = 3\n",
    "b = 4\n",
    "c = 5\n",
    "\n",
    "d = (a*b)+c\n",
    "d"
   ]
  },
  {
   "cell_type": "code",
   "execution_count": 9,
   "id": "ee5bbc2f",
   "metadata": {},
   "outputs": [
    {
     "data": {
      "text/plain": [
       "3.3333333333333335"
      ]
     },
     "execution_count": 9,
     "metadata": {},
     "output_type": "execute_result"
    }
   ],
   "source": [
    "# This will convert 200 minutes to hours by diving by 60\n",
    "\n",
    "hours = 200\n",
    "\n",
    "Minutes = hours/60\n",
    "\n",
    "Minutes\n",
    "\n"
   ]
  },
  {
   "cell_type": "markdown",
   "id": "69464d63",
   "metadata": {},
   "source": [
    "# In this notebook, Data Science Tools and Ecosystem are summarized.\n",
    "\n",
    "## Objectives:\n",
    "* Markdown Cells\n",
    "* Heading Styles\n",
    "* Listing"
   ]
  },
  {
   "cell_type": "markdown",
   "id": "717c0d3a",
   "metadata": {},
   "source": [
    "## Author\n",
    "Daniel Obeng-Ofosu"
   ]
  },
  {
   "cell_type": "code",
   "execution_count": null,
   "id": "59dc64f2",
   "metadata": {},
   "outputs": [],
   "source": []
  }
 ],
 "metadata": {
  "kernelspec": {
   "display_name": "Python 3 (ipykernel)",
   "language": "python",
   "name": "python3"
  },
  "language_info": {
   "codemirror_mode": {
    "name": "ipython",
    "version": 3
   },
   "file_extension": ".py",
   "mimetype": "text/x-python",
   "name": "python",
   "nbconvert_exporter": "python",
   "pygments_lexer": "ipython3",
   "version": "3.11.7"
  }
 },
 "nbformat": 4,
 "nbformat_minor": 5
}
