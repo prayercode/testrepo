{
 "cells": [
  {
   "cell_type": "markdown",
   "id": "418f5e13",
   "metadata": {},
   "source": [
    "# Data Science"
   ]
  },
  {
   "cell_type": "markdown",
   "id": "09994b27",
   "metadata": {},
   "source": [
    "# Exercise 1: Create a Jupyter Notebook"
   ]
  },
  {
   "cell_type": "markdown",
   "id": "a881d584",
   "metadata": {},
   "source": [
    "# Exercise 2: Create markdown cell with title of the notebook\n",
    "\n",
    "# Data Science Tools and Ecosystem"
   ]
  },
  {
   "cell_type": "markdown",
   "id": "3545773b",
   "metadata": {},
   "source": [
    "# Exercise 3: Create markdown cell with title of the notebook Exercise 10 - Insert a markdown cell to list Objectives\n",
    "\n",
    "# In this notebook, Data Science Tools and Ecosystem are summarized.\n",
    "\n",
    "## Objectives:\n",
    "* Item 1\n",
    "    1. subitem 1\n",
    "    1. subitem 2\n",
    "        * level three\n",
    "            * level four\n",
    "\n",
    "* Item 2\n",
    "    1. level 2\n",
    "    1. anohter level two\n",
    "    \n",
    "* Item 3\n",
    "\n",
    "\n",
    "# In this notebook, Data Science Tools and Ecosystem are summarized.\n",
    "\n",
    "## Objectives:\n",
    "* Markdown Cells\n",
    "* Heading Styles\n",
    "* Listing"
   ]
  },
  {
   "cell_type": "markdown",
   "id": "8cfc69b6",
   "metadata": {},
   "source": [
    "# Exercise 4 - Create a markdown cell to list data science languages\n",
    "\n",
    "## Some of the popular languages that Data Scientists use are:\n",
    "1. Python\n",
    "2. R\n",
    "3. Sql \n"
   ]
  },
  {
   "cell_type": "markdown",
   "id": "3ea01276",
   "metadata": {},
   "source": [
    "# Exercise 5 - Create a markdown cell to list data science libraries\n",
    "\n",
    "## Some of the popular libraries that Data Scientists use are:\n",
    "1. Pandas\n",
    "2. Numpy\n",
    "3. Scipy "
   ]
  },
  {
   "cell_type": "markdown",
   "id": "105ad280",
   "metadata": {},
   "source": [
    "# Exercise 6 - Create a markdown cell with a table of Data Science tools\n",
    "\n",
    "| Data Science Tools |\n",
    "|--------------------|\n",
    "| Jupyter |\n",
    "| Rstudio  |\n",
    "| Apache Zeppline  |\n",
    "\n"
   ]
  },
  {
   "cell_type": "markdown",
   "id": "1e88d04c",
   "metadata": {},
   "source": [
    "# Exercise 7 - Create a markdown cell introducing arithmetic expression examples\n",
    "\n",
    "### Below are a few examples of evaluating arithmetic expressions in Python:\n"
   ]
  },
  {
   "cell_type": "markdown",
   "id": "d95b1fe1",
   "metadata": {},
   "source": [
    "# Exercise 8 - Create a code cell to multiply and add numbers"
   ]
  },
  {
   "cell_type": "code",
   "execution_count": 3,
   "id": "410975db",
   "metadata": {},
   "outputs": [
    {
     "data": {
      "text/plain": [
       "17"
      ]
     },
     "execution_count": 3,
     "metadata": {},
     "output_type": "execute_result"
    }
   ],
   "source": [
    "# This a simple arithmetic expression to mutiply then add integers\n",
    "\n",
    "a = 3\n",
    "b = 4\n",
    "c = 5\n",
    "\n",
    "d = (a*b)+c\n",
    "d"
   ]
  },
  {
   "cell_type": "markdown",
   "id": "e6821a64",
   "metadata": {},
   "source": [
    "# Exercise 9 - Create a code cell to convert minutes to hours"
   ]
  },
  {
   "cell_type": "code",
   "execution_count": 9,
   "id": "0652c6cd",
   "metadata": {},
   "outputs": [
    {
     "data": {
      "text/plain": [
       "3.3333333333333335"
      ]
     },
     "execution_count": 9,
     "metadata": {},
     "output_type": "execute_result"
    }
   ],
   "source": [
    "# This will convert 200 minutes to hours by diving by 60\n",
    "\n",
    "hours = 200\n",
    "\n",
    "Minutes = hours/60\n",
    "\n",
    "Minutes\n",
    "\n"
   ]
  },
  {
   "cell_type": "markdown",
   "id": "13af2c6e",
   "metadata": {},
   "source": [
    "# Exercise 11 - Create a markdown cell to indicate the Author's name\n",
    "\n",
    "\n",
    "## Author\n",
    "Daniel Obeng-Ofosu"
   ]
  },
  {
   "cell_type": "code",
   "execution_count": null,
   "id": "e45b5d39",
   "metadata": {},
   "outputs": [],
   "source": []
  }
 ],
 "metadata": {
  "kernelspec": {
   "display_name": "Python 3 (ipykernel)",
   "language": "python",
   "name": "python3"
  },
  "language_info": {
   "codemirror_mode": {
    "name": "ipython",
    "version": 3
   },
   "file_extension": ".py",
   "mimetype": "text/x-python",
   "name": "python",
   "nbconvert_exporter": "python",
   "pygments_lexer": "ipython3",
   "version": "3.9.12"
  }
 },
 "nbformat": 4,
 "nbformat_minor": 5
}
